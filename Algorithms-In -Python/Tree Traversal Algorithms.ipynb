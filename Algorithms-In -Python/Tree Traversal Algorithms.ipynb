{
 "cells": [
  {
   "cell_type": "code",
   "execution_count": 8,
   "metadata": {},
   "outputs": [
    {
     "data": {
      "text/plain": [
       "'\\n      1\\n    /      2     3\\n  / 4     5\\n\\n'"
      ]
     },
     "execution_count": 8,
     "metadata": {},
     "output_type": "execute_result"
    }
   ],
   "source": [
    "class Node():\n",
    "    def __init__(self,val):\n",
    "        self.childleft = None\n",
    "        self.childright = None\n",
    "        self.nodeData = val\n",
    "        \n",
    "#Creating instance of the class to construct the tree\n",
    "root = Node(1)\n",
    "root.childleft=Node(2)\n",
    "root.childright=Node(3)\n",
    "root.childleft.childleft=Node(4)\n",
    "root.childleft.childright=Node(5)\n",
    "\n",
    "'''\n",
    "      1\n",
    "    /   \\\n",
    "   2     3\n",
    "  / \\\n",
    "4     5\n",
    "\n",
    "'''\n"
   ]
  },
  {
   "cell_type": "code",
   "execution_count": 9,
   "metadata": {},
   "outputs": [
    {
     "name": "stdout",
     "output_type": "stream",
     "text": [
      "4\n",
      "2\n",
      "5\n",
      "1\n",
      "3\n"
     ]
    }
   ],
   "source": [
    " def Inorder(root):\n",
    "        if root:\n",
    "            Inorder(root.childleft)\n",
    "            print(root.nodeData)\n",
    "            Inorder(root.childright)\n",
    "Inorder(root)"
   ]
  },
  {
   "cell_type": "code",
   "execution_count": 10,
   "metadata": {},
   "outputs": [
    {
     "name": "stdout",
     "output_type": "stream",
     "text": [
      "1\n",
      "2\n",
      "4\n",
      "5\n",
      "3\n"
     ]
    }
   ],
   "source": [
    " def Preorder(root):\n",
    "        if root:\n",
    "            print(root.nodeData)\n",
    "            Preorder(root.childleft)\n",
    "            Preorder(root.childright)\n",
    "Preorder(root)"
   ]
  },
  {
   "cell_type": "code",
   "execution_count": 11,
   "metadata": {},
   "outputs": [
    {
     "name": "stdout",
     "output_type": "stream",
     "text": [
      "4\n",
      "5\n",
      "2\n",
      "3\n",
      "1\n"
     ]
    }
   ],
   "source": [
    " def Postorder(root):\n",
    "        if root:\n",
    "            Postorder(root.childleft)\n",
    "            Postorder(root.childright)\n",
    "            print(root.nodeData)\n",
    "Postorder(root)"
   ]
  },
  {
   "cell_type": "code",
   "execution_count": null,
   "metadata": {},
   "outputs": [],
   "source": []
  }
 ],
 "metadata": {
  "kernelspec": {
   "display_name": "Python 3",
   "language": "python",
   "name": "python3"
  },
  "language_info": {
   "codemirror_mode": {
    "name": "ipython",
    "version": 3
   },
   "file_extension": ".py",
   "mimetype": "text/x-python",
   "name": "python",
   "nbconvert_exporter": "python",
   "pygments_lexer": "ipython3",
   "version": "3.7.6"
  }
 },
 "nbformat": 4,
 "nbformat_minor": 4
}
