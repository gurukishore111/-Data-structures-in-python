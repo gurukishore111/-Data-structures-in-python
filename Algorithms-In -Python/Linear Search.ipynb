{
 "cells": [
  {
   "cell_type": "code",
   "execution_count": 13,
   "metadata": {
    "scrolled": true
   },
   "outputs": [
    {
     "name": "stdout",
     "output_type": "stream",
     "text": [
      "Element present in index of: 0\n"
     ]
    }
   ],
   "source": [
    "def lin_search(my_array,n,key):\n",
    "    \n",
    "    for x in range(0,n):\n",
    "        if (my_array[x] == key):\n",
    "             return x\n",
    "    return -1\n",
    "my_array=[1,2,3,4,5,6]\n",
    "n =len(my_array)\n",
    "key=1\n",
    "matched = lin_search(my_array,n,key)\n",
    "if (matched == -1):\n",
    "    print(\"key is not in list\")\n",
    "else:\n",
    "    print(\"Element present in index of:\",matched)"
   ]
  },
  {
   "cell_type": "code",
   "execution_count": null,
   "metadata": {},
   "outputs": [],
   "source": []
  }
 ],
 "metadata": {
  "kernelspec": {
   "display_name": "Python 3",
   "language": "python",
   "name": "python3"
  },
  "language_info": {
   "codemirror_mode": {
    "name": "ipython",
    "version": 3
   },
   "file_extension": ".py",
   "mimetype": "text/x-python",
   "name": "python",
   "nbconvert_exporter": "python",
   "pygments_lexer": "ipython3",
   "version": "3.7.6"
  }
 },
 "nbformat": 4,
 "nbformat_minor": 4
}
