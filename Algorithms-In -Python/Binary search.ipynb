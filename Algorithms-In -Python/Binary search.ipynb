{
 "cells": [
  {
   "cell_type": "code",
   "execution_count": null,
   "metadata": {},
   "outputs": [],
   "source": [
    "def bin_search(mylist,key):\n",
    "    l =0\n",
    "    r =len(mylist)-1\n",
    "    matched = False\n",
    "    while( l<=r and not matched):\n",
    "        middle = (l+r)//2\n",
    "        if mylist[middle] == key:\n",
    "             matched= True\n",
    "        else:\n",
    "            if key < mylist[middle]:\n",
    "                r= middle-1\n",
    "            else:\n",
    "                l= middle+1\n",
    "    return matched\n",
    "print(bin_search([2,3,45,66,77,88],45))\n",
    "print(bin_search([2,3,45,66,77,88],5))"
   ]
  }
 ],
 "metadata": {
  "kernelspec": {
   "display_name": "Python 3",
   "language": "python",
   "name": "python3"
  },
  "language_info": {
   "codemirror_mode": {
    "name": "ipython",
    "version": 3
   },
   "file_extension": ".py",
   "mimetype": "text/x-python",
   "name": "python",
   "nbconvert_exporter": "python",
   "pygments_lexer": "ipython3",
   "version": "3.7.6"
  }
 },
 "nbformat": 4,
 "nbformat_minor": 4
}
